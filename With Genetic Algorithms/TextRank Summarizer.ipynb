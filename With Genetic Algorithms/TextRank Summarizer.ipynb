{
 "cells": [
  {
   "cell_type": "code",
   "execution_count": 1,
   "id": "1f6b29b7",
   "metadata": {},
   "outputs": [
    {
     "name": "stderr",
     "output_type": "stream",
     "text": [
      "error loading _jsonnet (this is expected on Windows), treating C:\\Users\\TANVIK~1\\AppData\\Local\\Temp\\tmpvct0ivcr\\config.json as plain json\n",
      "Some weights of BertModel were not initialized from the model checkpoint at SpanBERT/spanbert-large-cased and are newly initialized: ['bert.pooler.dense.weight', 'bert.pooler.dense.bias']\n",
      "You should probably TRAIN this model on a down-stream task to be able to use it for predictions and inference.\n"
     ]
    }
   ],
   "source": [
    "from allennlp.predictors.predictor import Predictor\n",
    "model_url = \"https://storage.googleapis.com/allennlp-public-models/coref-spanbert-large-2020.02.27.tar.gz\"\n",
    "predictor = Predictor.from_path(model_url)"
   ]
  },
  {
   "cell_type": "code",
   "execution_count": 2,
   "id": "9237677c",
   "metadata": {},
   "outputs": [],
   "source": [
    "import itertools\n",
    "import re\n",
    "import nltk\n",
    "import string\n",
    "import pandas as pd\n",
    "import numpy as np\n",
    "import rouge\n",
    "ROUGE = rouge.Rouge(metrics=['rouge-n'],\n",
    "                           max_n=1)\n",
    "from sklearn.feature_extraction.text import TfidfVectorizer\n",
    "from nltk import ngrams\n",
    "from nltk.corpus import stopwords\n",
    "from collections import OrderedDict"
   ]
  },
  {
   "cell_type": "code",
   "execution_count": 3,
   "id": "1ce17b89",
   "metadata": {},
   "outputs": [],
   "source": [
    "df = pd.read_csv('datasets/wikihowAll.csv')"
   ]
  },
  {
   "cell_type": "code",
   "execution_count": 4,
   "id": "3b206845",
   "metadata": {},
   "outputs": [
    {
     "data": {
      "text/html": [
       "<div>\n",
       "<style scoped>\n",
       "    .dataframe tbody tr th:only-of-type {\n",
       "        vertical-align: middle;\n",
       "    }\n",
       "\n",
       "    .dataframe tbody tr th {\n",
       "        vertical-align: top;\n",
       "    }\n",
       "\n",
       "    .dataframe thead th {\n",
       "        text-align: right;\n",
       "    }\n",
       "</style>\n",
       "<table border=\"1\" class=\"dataframe\">\n",
       "  <thead>\n",
       "    <tr style=\"text-align: right;\">\n",
       "      <th></th>\n",
       "      <th>headline</th>\n",
       "      <th>text</th>\n",
       "    </tr>\n",
       "  </thead>\n",
       "  <tbody>\n",
       "    <tr>\n",
       "      <th>0</th>\n",
       "      <td>\\nKeep related supplies in the same area.,\\nMa...</td>\n",
       "      <td>If you're a photographer, keep all the necess...</td>\n",
       "    </tr>\n",
       "    <tr>\n",
       "      <th>1</th>\n",
       "      <td>\\nCreate a sketch in the NeoPopRealist manner ...</td>\n",
       "      <td>See the image for how this drawing develops s...</td>\n",
       "    </tr>\n",
       "    <tr>\n",
       "      <th>2</th>\n",
       "      <td>\\nGet a bachelor’s degree.,\\nEnroll in a studi...</td>\n",
       "      <td>It is possible to become a VFX artist without...</td>\n",
       "    </tr>\n",
       "    <tr>\n",
       "      <th>3</th>\n",
       "      <td>\\nStart with some experience or interest in ar...</td>\n",
       "      <td>The best art investors do their research on t...</td>\n",
       "    </tr>\n",
       "    <tr>\n",
       "      <th>4</th>\n",
       "      <td>\\nKeep your reference materials, sketches, art...</td>\n",
       "      <td>As you start planning for a project or work, ...</td>\n",
       "    </tr>\n",
       "    <tr>\n",
       "      <th>...</th>\n",
       "      <td>...</td>\n",
       "      <td>...</td>\n",
       "    </tr>\n",
       "    <tr>\n",
       "      <th>95</th>\n",
       "      <td>\\nWatch out for a shifting saddle.,\\nNotice if...</td>\n",
       "      <td>If you feel that you are having to lean to on...</td>\n",
       "    </tr>\n",
       "    <tr>\n",
       "      <th>96</th>\n",
       "      <td>\\nBuild a trustworthy bond with your piggy.,\\n...</td>\n",
       "      <td>Having a stable relationship with an animal m...</td>\n",
       "    </tr>\n",
       "    <tr>\n",
       "      <th>97</th>\n",
       "      <td>\\nLet your guinea pig out of its cage.,\\nMake ...</td>\n",
       "      <td>;\\n,,,,, Make sure every time you do this you ...</td>\n",
       "    </tr>\n",
       "    <tr>\n",
       "      <th>98</th>\n",
       "      <td>\\nCondition your guinea pig to the clicker or ...</td>\n",
       "      <td>To do this, put your guinea pig in a safe are...</td>\n",
       "    </tr>\n",
       "    <tr>\n",
       "      <th>99</th>\n",
       "      <td>\\nPlace your guinea pig in a piggy-proof area ...</td>\n",
       "      <td>Ensure that there is nothing to pose a danger...</td>\n",
       "    </tr>\n",
       "  </tbody>\n",
       "</table>\n",
       "<p>100 rows × 2 columns</p>\n",
       "</div>"
      ],
      "text/plain": [
       "                                             headline  \\\n",
       "0   \\nKeep related supplies in the same area.,\\nMa...   \n",
       "1   \\nCreate a sketch in the NeoPopRealist manner ...   \n",
       "2   \\nGet a bachelor’s degree.,\\nEnroll in a studi...   \n",
       "3   \\nStart with some experience or interest in ar...   \n",
       "4   \\nKeep your reference materials, sketches, art...   \n",
       "..                                                ...   \n",
       "95  \\nWatch out for a shifting saddle.,\\nNotice if...   \n",
       "96  \\nBuild a trustworthy bond with your piggy.,\\n...   \n",
       "97  \\nLet your guinea pig out of its cage.,\\nMake ...   \n",
       "98  \\nCondition your guinea pig to the clicker or ...   \n",
       "99  \\nPlace your guinea pig in a piggy-proof area ...   \n",
       "\n",
       "                                                 text  \n",
       "0    If you're a photographer, keep all the necess...  \n",
       "1    See the image for how this drawing develops s...  \n",
       "2    It is possible to become a VFX artist without...  \n",
       "3    The best art investors do their research on t...  \n",
       "4    As you start planning for a project or work, ...  \n",
       "..                                                ...  \n",
       "95   If you feel that you are having to lean to on...  \n",
       "96   Having a stable relationship with an animal m...  \n",
       "97  ;\\n,,,,, Make sure every time you do this you ...  \n",
       "98   To do this, put your guinea pig in a safe are...  \n",
       "99   Ensure that there is nothing to pose a danger...  \n",
       "\n",
       "[100 rows x 2 columns]"
      ]
     },
     "execution_count": 4,
     "metadata": {},
     "output_type": "execute_result"
    }
   ],
   "source": [
    "df = df.drop(['title'], axis = 1)\n",
    "df = df.head(100)\n",
    "df"
   ]
  },
  {
   "cell_type": "code",
   "execution_count": 5,
   "id": "94327fba",
   "metadata": {},
   "outputs": [],
   "source": [
    "df['headline'] = df['headline'].apply(lambda x: x.replace(',\\n', ' '))\n",
    "df['text'] = df['text'].apply(lambda x: x.replace(',\\n', ' '))\n",
    "df['headline'] = df['headline'].apply(lambda x: x.replace('\\n,', ' '))\n",
    "df['text'] = df['text'].apply(lambda x: x.replace('\\n,', ' '))\n",
    "df['headline'] = df['headline'].apply(lambda x: x.replace('\\n\\n', ' '))\n",
    "df['text'] = df['text'].apply(lambda x: x.replace('\\n\\n', ' '))\n",
    "df['headline'] = df['headline'].apply(lambda x: x.replace('\\n\\n\\n', ' '))\n",
    "df['text'] = df['text'].apply(lambda x: x.replace('\\n\\n\\n', ' '))\n",
    "df['headline'] = df['headline'].apply(lambda x: x.replace('\\n', ' '))\n",
    "df['text'] = df['text'].apply(lambda x: x.replace('\\n', ' '))"
   ]
  },
  {
   "cell_type": "code",
   "execution_count": 6,
   "id": "5602dab7",
   "metadata": {},
   "outputs": [
    {
     "data": {
      "text/html": [
       "<div>\n",
       "<style scoped>\n",
       "    .dataframe tbody tr th:only-of-type {\n",
       "        vertical-align: middle;\n",
       "    }\n",
       "\n",
       "    .dataframe tbody tr th {\n",
       "        vertical-align: top;\n",
       "    }\n",
       "\n",
       "    .dataframe thead th {\n",
       "        text-align: right;\n",
       "    }\n",
       "</style>\n",
       "<table border=\"1\" class=\"dataframe\">\n",
       "  <thead>\n",
       "    <tr style=\"text-align: right;\">\n",
       "      <th></th>\n",
       "      <th>headline</th>\n",
       "      <th>text</th>\n",
       "    </tr>\n",
       "  </thead>\n",
       "  <tbody>\n",
       "    <tr>\n",
       "      <th>0</th>\n",
       "      <td>Keep related supplies in the same area. Make ...</td>\n",
       "      <td>If you're a photographer, keep all the necess...</td>\n",
       "    </tr>\n",
       "    <tr>\n",
       "      <th>1</th>\n",
       "      <td>Create a sketch in the NeoPopRealist manner o...</td>\n",
       "      <td>See the image for how this drawing develops s...</td>\n",
       "    </tr>\n",
       "    <tr>\n",
       "      <th>2</th>\n",
       "      <td>Get a bachelor’s degree. Enroll in a studio-b...</td>\n",
       "      <td>It is possible to become a VFX artist without...</td>\n",
       "    </tr>\n",
       "    <tr>\n",
       "      <th>3</th>\n",
       "      <td>Start with some experience or interest in art...</td>\n",
       "      <td>The best art investors do their research on t...</td>\n",
       "    </tr>\n",
       "    <tr>\n",
       "      <th>4</th>\n",
       "      <td>Keep your reference materials, sketches, arti...</td>\n",
       "      <td>As you start planning for a project or work, ...</td>\n",
       "    </tr>\n",
       "    <tr>\n",
       "      <th>...</th>\n",
       "      <td>...</td>\n",
       "      <td>...</td>\n",
       "    </tr>\n",
       "    <tr>\n",
       "      <th>95</th>\n",
       "      <td>Watch out for a shifting saddle. Notice if yo...</td>\n",
       "      <td>If you feel that you are having to lean to on...</td>\n",
       "    </tr>\n",
       "    <tr>\n",
       "      <th>96</th>\n",
       "      <td>Build a trustworthy bond with your piggy. Res...</td>\n",
       "      <td>Having a stable relationship with an animal m...</td>\n",
       "    </tr>\n",
       "    <tr>\n",
       "      <th>97</th>\n",
       "      <td>Let your guinea pig out of its cage. Make sur...</td>\n",
       "      <td>; ,,,, Make sure every time you do this you sa...</td>\n",
       "    </tr>\n",
       "    <tr>\n",
       "      <th>98</th>\n",
       "      <td>Condition your guinea pig to the clicker or v...</td>\n",
       "      <td>To do this, put your guinea pig in a safe are...</td>\n",
       "    </tr>\n",
       "    <tr>\n",
       "      <th>99</th>\n",
       "      <td>Place your guinea pig in a piggy-proof area t...</td>\n",
       "      <td>Ensure that there is nothing to pose a danger...</td>\n",
       "    </tr>\n",
       "  </tbody>\n",
       "</table>\n",
       "<p>100 rows × 2 columns</p>\n",
       "</div>"
      ],
      "text/plain": [
       "                                             headline  \\\n",
       "0    Keep related supplies in the same area. Make ...   \n",
       "1    Create a sketch in the NeoPopRealist manner o...   \n",
       "2    Get a bachelor’s degree. Enroll in a studio-b...   \n",
       "3    Start with some experience or interest in art...   \n",
       "4    Keep your reference materials, sketches, arti...   \n",
       "..                                                ...   \n",
       "95   Watch out for a shifting saddle. Notice if yo...   \n",
       "96   Build a trustworthy bond with your piggy. Res...   \n",
       "97   Let your guinea pig out of its cage. Make sur...   \n",
       "98   Condition your guinea pig to the clicker or v...   \n",
       "99   Place your guinea pig in a piggy-proof area t...   \n",
       "\n",
       "                                                 text  \n",
       "0    If you're a photographer, keep all the necess...  \n",
       "1    See the image for how this drawing develops s...  \n",
       "2    It is possible to become a VFX artist without...  \n",
       "3    The best art investors do their research on t...  \n",
       "4    As you start planning for a project or work, ...  \n",
       "..                                                ...  \n",
       "95   If you feel that you are having to lean to on...  \n",
       "96   Having a stable relationship with an animal m...  \n",
       "97  ; ,,,, Make sure every time you do this you sa...  \n",
       "98   To do this, put your guinea pig in a safe are...  \n",
       "99   Ensure that there is nothing to pose a danger...  \n",
       "\n",
       "[100 rows x 2 columns]"
      ]
     },
     "execution_count": 6,
     "metadata": {},
     "output_type": "execute_result"
    }
   ],
   "source": [
    "df"
   ]
  },
  {
   "cell_type": "code",
   "execution_count": 7,
   "id": "38535d44",
   "metadata": {},
   "outputs": [],
   "source": [
    "class TextRank4Keyword():\n",
    "    \"\"\"Extract keywords from text\"\"\"\n",
    "    \n",
    "    def __init__(self):\n",
    "        self.d = 0.85 # damping coefficient, usually is .85\n",
    "        self.min_diff = 1e-5 # convergence threshold\n",
    "        self.steps = 10 # iteration steps\n",
    "        self.node_weight = None # save keywords and its weight\n",
    "        \n",
    "    def get_vocab(self, sentences):\n",
    "        \"\"\"Get all tokens\"\"\"\n",
    "        vocab = OrderedDict()\n",
    "        i = 0\n",
    "        for sentence in sentences:\n",
    "            for word in sentence:\n",
    "                if word not in vocab:\n",
    "                    vocab[word] = i\n",
    "                    i += 1\n",
    "        return vocab\n",
    "    \n",
    "    def sentence_segment(self, doc, lower):\n",
    "        sentences = []\n",
    "        pattern = r'(?<!\\w\\.\\w.)(?<![A-Z][a-z]\\.)(?<=\\.|\\?|\\!)\\s'\n",
    "        sents = re.split(pattern, doc)\n",
    "        sents = [sentence.split() for sentence in sents if any(char.isalpha() for char in sentence)]\n",
    "        \n",
    "        for sent in sents:\n",
    "            selected_words = []\n",
    "            for token in sent:\n",
    "                # Store words only with cadidate POS tag\n",
    "                if lower is True:\n",
    "                    selected_words.append(token.lower())\n",
    "                else:\n",
    "                    selected_words.append(token)\n",
    "            sentences.append(selected_words)\n",
    "        return sentences\n",
    "        \n",
    "    \n",
    "    def get_token_pairs(self, window_size, sentences):\n",
    "        \"\"\"Build token_pairs from windows in sentences\"\"\"\n",
    "        token_pairs = list()\n",
    "        for sentence in sentences:\n",
    "            for i, word in enumerate(sentence):\n",
    "                for j in range(i+1, i+window_size):\n",
    "                    if j >= len(sentence):\n",
    "                        break\n",
    "                    pair = (word, sentence[j])\n",
    "                    if pair not in token_pairs:\n",
    "                        token_pairs.append(pair)\n",
    "        return token_pairs\n",
    "        \n",
    "    def symmetrize(self, a):\n",
    "        return a + a.T - np.diag(a.diagonal())\n",
    "    \n",
    "    def get_matrix(self, vocab, token_pairs):\n",
    "        \"\"\"Get normalized matrix\"\"\"\n",
    "        # Build matrix\n",
    "        vocab_size = len(vocab)\n",
    "        g = np.zeros((vocab_size, vocab_size), dtype='float')\n",
    "        for word1, word2 in token_pairs:\n",
    "            i, j = vocab[word1], vocab[word2]\n",
    "            g[i][j] = 1\n",
    "            \n",
    "        # Get Symmeric matrix\n",
    "        g = self.symmetrize(g)\n",
    "        \n",
    "        # Normalize matrix by column\n",
    "        norm = np.sum(g, axis=0)\n",
    "        g_norm = np.divide(g, norm, where=norm!=0) # this is ignore the 0 element in norm\n",
    "        \n",
    "        return g_norm\n",
    "\n",
    "    \n",
    "    def get_keywords(self, number=10):\n",
    "        \"\"\"Print top number keywords\"\"\"\n",
    "        node_weight = OrderedDict(sorted(self.node_weight.items(), key=lambda t: t[1], reverse=True))\n",
    "        for i, (key, value) in enumerate(node_weight.items()):\n",
    "            print(key + ' - ' + str(value))\n",
    "            if i > number:\n",
    "                break\n",
    "        \n",
    "        \n",
    "    def analyze(self, text, \n",
    "                window_size=4, lower=False):\n",
    "        \"\"\"Main function to analyze text\"\"\"\n",
    "        \n",
    "        # Filter sentences\n",
    "        sentences = self.sentence_segment(text, lower) # list of list of words\n",
    "        \n",
    "        # Build vocabulary\n",
    "        vocab = self.get_vocab(sentences)\n",
    "        \n",
    "        # Build vocabulary\n",
    "        vocab = self.get_vocab(sentences)\n",
    "        \n",
    "        # Get token_pairs from windows\n",
    "        token_pairs = self.get_token_pairs(window_size, sentences)\n",
    "        \n",
    "        # Get normalized matrix\n",
    "        g = self.get_matrix(vocab, token_pairs)\n",
    "        \n",
    "        # Initionlization for weight(pagerank value)\n",
    "        pr = np.array([1] * len(vocab))\n",
    "        \n",
    "        # Iteration\n",
    "        previous_pr = 0\n",
    "        for epoch in range(self.steps):\n",
    "            pr = (1-self.d) + self.d * np.dot(g, pr)\n",
    "            if abs(previous_pr - sum(pr))  < self.min_diff:\n",
    "                break\n",
    "            else:\n",
    "                previous_pr = sum(pr)\n",
    "\n",
    "        # Get weight for each node\n",
    "        node_weight = dict()\n",
    "        for word, index in vocab.items():\n",
    "            node_weight[word] = pr[index]\n",
    "        \n",
    "        self.node_weight = node_weight"
   ]
  },
  {
   "cell_type": "code",
   "execution_count": 8,
   "id": "3ef33711",
   "metadata": {},
   "outputs": [],
   "source": [
    "def summarize_text(dataframe):\n",
    "    # Filling in Nan values\n",
    "    dataframe['text'] = dataframe['text'].fillna('This abstract does not exist')\n",
    "\n",
    "    # Generating best summary for each abstract\n",
    "    summaries = []\n",
    "    scores = []\n",
    "    resolved = []\n",
    "    for i in range(len(dataframe)):\n",
    "        abstract = dataframe.loc[i, 'text']\n",
    "        \n",
    "        # Allen Anaphora Resolution\n",
    "        prediction = predictor.predict(document=abstract)  # get prediction\n",
    "        abstract = predictor.coref_resolved(abstract)  # resolved text\n",
    "        resolved.append(abstract)\n",
    "        \n",
    "        headline = dataframe.loc[i, 'headline']\n",
    "        \n",
    "        # TextRank\n",
    "        textRank = TextRank4Keyword()\n",
    "        textRank.analyze(abstract)\n",
    "        text_rank_scores = textRank.node_weight\n",
    "\n",
    "        # Sentence Tokenization\n",
    "        pattern = r'(?<!\\w\\.\\w.)(?<![A-Z][a-z]\\.)(?<=\\.|\\?|\\!)\\s'\n",
    "        sentences = re.split(pattern, abstract)\n",
    "        sentences = [sentence for sentence in sentences if any(char.isalpha() for char in sentence)]\n",
    "        headline_sentences = re.split(pattern, headline)\n",
    "        headline_sentences = [sentence for sentence in headline_sentences if any(char.isalpha() for char in sentence)]\n",
    "        n_sentences = len(headline_sentences)\n",
    "\n",
    "        # Sentence scoring based on textrank values\n",
    "        scored_sentences = []\n",
    "        for index, sentence in enumerate(sentences):\n",
    "            words = sentence.split(' ')\n",
    "            score = sum(text_rank_scores[word] if word in text_rank_scores else 0.0 for word in words)\n",
    "            scored_sentences.append((sentence, score, index))\n",
    "        scored_sentences.sort(key=lambda x: x[1], reverse=True)\n",
    "\n",
    "        # Top n sentences are taken as summary\n",
    "        top_sentences = []\n",
    "        for sentence, score, index in scored_sentences[:n_sentences]:\n",
    "            top_sentences.append((sentence, index))\n",
    "        top_sentences.sort(key=lambda x: x[1])\n",
    "        top_sentences = [sentence for sentence, index in top_sentences]\n",
    "        summary = ' '.join(top_sentences)\n",
    "        summaries.append(summary)\n",
    "        \n",
    "        # Rouge-1 score calculation\n",
    "        score = ROUGE.get_scores(summary, headline)\n",
    "        p = score[\"rouge-1\"][\"p\"]\n",
    "        r = score[\"rouge-1\"][\"r\"]\n",
    "        f1 = score[\"rouge-1\"][\"f\"]\n",
    "        scores.append([p, r, f1])\n",
    "\n",
    "    dataframe['resolved text'] = resolved\n",
    "    dataframe['summary'] = summaries\n",
    "    dataframe['rouge-1 score'] = scores\n",
    "    \n",
    "    return dataframe"
   ]
  },
  {
   "cell_type": "code",
   "execution_count": 11,
   "id": "78ce62a1",
   "metadata": {},
   "outputs": [
    {
     "name": "stderr",
     "output_type": "stream",
     "text": [
      "C:\\Users\\Tanvi Kandalla\\AppData\\Local\\Temp\\ipykernel_14968\\3420199793.py:3: SettingWithCopyWarning: \n",
      "A value is trying to be set on a copy of a slice from a DataFrame.\n",
      "Try using .loc[row_indexer,col_indexer] = value instead\n",
      "\n",
      "See the caveats in the documentation: https://pandas.pydata.org/pandas-docs/stable/user_guide/indexing.html#returning-a-view-versus-a-copy\n",
      "  dataframe['text'] = dataframe['text'].fillna('This abstract does not exist')\n",
      "C:\\Users\\Tanvi Kandalla\\AppData\\Local\\Temp\\ipykernel_14968\\3420199793.py:56: SettingWithCopyWarning: \n",
      "A value is trying to be set on a copy of a slice from a DataFrame.\n",
      "Try using .loc[row_indexer,col_indexer] = value instead\n",
      "\n",
      "See the caveats in the documentation: https://pandas.pydata.org/pandas-docs/stable/user_guide/indexing.html#returning-a-view-versus-a-copy\n",
      "  dataframe['resolved text'] = resolved\n",
      "C:\\Users\\Tanvi Kandalla\\AppData\\Local\\Temp\\ipykernel_14968\\3420199793.py:57: SettingWithCopyWarning: \n",
      "A value is trying to be set on a copy of a slice from a DataFrame.\n",
      "Try using .loc[row_indexer,col_indexer] = value instead\n",
      "\n",
      "See the caveats in the documentation: https://pandas.pydata.org/pandas-docs/stable/user_guide/indexing.html#returning-a-view-versus-a-copy\n",
      "  dataframe['summary'] = summaries\n",
      "C:\\Users\\Tanvi Kandalla\\AppData\\Local\\Temp\\ipykernel_14968\\3420199793.py:58: SettingWithCopyWarning: \n",
      "A value is trying to be set on a copy of a slice from a DataFrame.\n",
      "Try using .loc[row_indexer,col_indexer] = value instead\n",
      "\n",
      "See the caveats in the documentation: https://pandas.pydata.org/pandas-docs/stable/user_guide/indexing.html#returning-a-view-versus-a-copy\n",
      "  dataframe['rouge-1 score'] = scores\n"
     ]
    }
   ],
   "source": [
    "output = summarize_text(df.head(1))"
   ]
  },
  {
   "cell_type": "code",
   "execution_count": 12,
   "id": "ae256d24",
   "metadata": {},
   "outputs": [
    {
     "data": {
      "text/html": [
       "<div>\n",
       "<style scoped>\n",
       "    .dataframe tbody tr th:only-of-type {\n",
       "        vertical-align: middle;\n",
       "    }\n",
       "\n",
       "    .dataframe tbody tr th {\n",
       "        vertical-align: top;\n",
       "    }\n",
       "\n",
       "    .dataframe thead th {\n",
       "        text-align: right;\n",
       "    }\n",
       "</style>\n",
       "<table border=\"1\" class=\"dataframe\">\n",
       "  <thead>\n",
       "    <tr style=\"text-align: right;\">\n",
       "      <th></th>\n",
       "      <th>headline</th>\n",
       "      <th>text</th>\n",
       "      <th>resolved text</th>\n",
       "      <th>summary</th>\n",
       "      <th>rouge-1 score</th>\n",
       "    </tr>\n",
       "  </thead>\n",
       "  <tbody>\n",
       "    <tr>\n",
       "      <th>0</th>\n",
       "      <td>Keep related supplies in the same area. Make ...</td>\n",
       "      <td>If you're a photographer, keep all the necess...</td>\n",
       "      <td>If you're a photographer, keep all the necess...</td>\n",
       "      <td>Infrequent or secondary supplies area, tucked ...</td>\n",
       "      <td>[0.26495726495726496, 0.36470588235294116, 0.3...</td>\n",
       "    </tr>\n",
       "  </tbody>\n",
       "</table>\n",
       "</div>"
      ],
      "text/plain": [
       "                                            headline  \\\n",
       "0   Keep related supplies in the same area. Make ...   \n",
       "\n",
       "                                                text  \\\n",
       "0   If you're a photographer, keep all the necess...   \n",
       "\n",
       "                                       resolved text  \\\n",
       "0   If you're a photographer, keep all the necess...   \n",
       "\n",
       "                                             summary  \\\n",
       "0  Infrequent or secondary supplies area, tucked ...   \n",
       "\n",
       "                                       rouge-1 score  \n",
       "0  [0.26495726495726496, 0.36470588235294116, 0.3...  "
      ]
     },
     "execution_count": 12,
     "metadata": {},
     "output_type": "execute_result"
    }
   ],
   "source": [
    "output"
   ]
  },
  {
   "cell_type": "code",
   "execution_count": 13,
   "id": "96769435",
   "metadata": {},
   "outputs": [
    {
     "name": "stdout",
     "output_type": "stream",
     "text": [
      " If you're a photographer, keep all the necessary lens, cords, and batteries in the same quadrant of your home or studio. Paints should be kept with brushes, cleaner, and canvas, print supplies should be by the ink, etc. Make broader groups and areas for your supplies to make finding them easier, limiting your search to a much smaller area. Some ideas include:  Essential supplies area -- the things you use every day. Inspiration and reference area. Dedicated work area . Infrequent or secondary supplies area, tucked out of the way.;  This doesn't mean cleaning the entire studio, it just means keeping the area immediately around the desk, easel, pottery wheel, etc. clean each night. Discard trash or unnecessary materials and wipe down dirty surfaces. Endeavor to leave the workspace in a way that you can sit down the next day and start working immediately, without having to do any work or tidying.  Even if the rest of your studio is a bit disorganized, an organized workspace will help you get down to business every time you want to make art.   As visual people, a lot of artist clutter comes from a desire to keep track of supplies visually instead of tucked out of sight. By using jars, old glasses, vases, and cheap, clear plastic drawers, you can keep things in sight without leaving it strewn about haphazardly. Some ideas, beyond those just mentioned, include:  Canvas shoe racks on the back of the door Wine racks with cups in each slot to hold pens/pencils. Plastic restaurant squirt bottles for paint, pigment, etc., Simply string up the wires across a wall or along the ceiling and use them to hold essential papers that you don't want to cut or ruin with tacks or tape. Cheap and easy, this is also a good way to handle papers and ideas you touch regularly or need to pin up and down for inspiration., Shelving is an artist's best friend and is a cheap and easy way to get more room in your studio or art space. Don't be afraid to get up high either, especially for infrequently used supplies. The upper reaches of the room are often the most under-utilized, but provide vital space for all your tools and materials., Turning one wall into a chalkboard gives you a perfect space for ideas, sketches, and planning without requiring extra equipment or space. You can even use it for smaller areas. Paint over jars or storage equipment, allowing you to relabel them with chalk as your needs change.   A lot of disorganization comes when you keep moving the location of things, trying to optimize your space by reorganizing frequently. This usually has the opposite effect, leading to lost items and uncertainty when cleaning, but an afternoon with a label maker can solve everything. Instead of spending all of your mental energy looking for or storing things, you can just follow the labels, freeing your mind to think about art., Once a month, do a purge of your studio. If it isn't essential or part of a project, either throw it out or file it away for later. Artists are constantly making new things, experimenting, and making a mess. This is a good thing, but only if you set aside time to declutter. It may not be fun at the moment, but it is a lot more fun than spending 30 minutes digging through junk to find the right paint or an old sketch.  Don't be sentimental here. If you haven't used it in the last six months there is little chance you'll use it in the next six months. Toss it. \n"
     ]
    }
   ],
   "source": [
    "print(output['text'][0])"
   ]
  },
  {
   "cell_type": "code",
   "execution_count": 14,
   "id": "1c9372e5",
   "metadata": {},
   "outputs": [
    {
     "name": "stdout",
     "output_type": "stream",
     "text": [
      "Infrequent or secondary supplies area, tucked out of the way.;  This doesn't mean cleaning the entire studio, This just means keeping the area immediately around the desk, easel, pottery wheel, etc. Endeavor to leave the workspace in a way that you can sit down the next day and start working immediately, without having to do any work or tidying.  Even if the rest of your studio is a bit disorganized, an organized workspace will help you get down to business every time you want to make art. Plastic restaurant squirt bottles for paint, pigment, etc., Simply string up the wires across a wall or along the ceiling and use the wires to hold essential papers that you don't want to cut or ruin with tacks or tape. Cheap and easy, this is also a good way to handle papers and ideas you touch regularly or need to pin up and down for inspiration., Shelving is an artist's best friend and is a cheap and easy way to get more room in your studio or art space. The upper reaches of the room are often the most under-utilized, but provide vital space for all your tools and materials., Turning one wall into a chalkboard gives you a perfect space for ideas, sketches, and planning without requiring extra equipment or space. Instead of spending all of your mental energy looking for or storing things, you can just follow the labels, freeing your mind to think about art., Once a month, do a purge of your studio. This may not be fun at the moment, but This is a lot more fun than spending 30 minutes digging through junk to find the right paint or an old sketch.\n"
     ]
    }
   ],
   "source": [
    "print(output['summary'][0])"
   ]
  },
  {
   "cell_type": "code",
   "execution_count": 15,
   "id": "e1a958dc",
   "metadata": {},
   "outputs": [
    {
     "name": "stdout",
     "output_type": "stream",
     "text": [
      " Keep related supplies in the same area. Make an effort to clean a dedicated workspace after every session. Place loose supplies in large, clearly visible containers. Use clotheslines and clips to hang sketches, photos, and reference material. Use every inch of the room for storage, especially vertical space. Use chalkboard paint to make space for drafting ideas right on the walls. Purchase a label maker to make your organization strategy semi-permanent. Make a habit of throwing out old, excess, or useless stuff each month.\n"
     ]
    }
   ],
   "source": [
    "print(output['headline'][0])"
   ]
  },
  {
   "cell_type": "code",
   "execution_count": 17,
   "id": "1a1dbab6",
   "metadata": {},
   "outputs": [
    {
     "name": "stdout",
     "output_type": "stream",
     "text": [
      "[0.26495726495726496, 0.36470588235294116, 0.3069306930693069]\n"
     ]
    }
   ],
   "source": [
    "p_sum = r_sum = f1_sum = 0\n",
    "for score in output['rouge-1 score']:\n",
    "    p_sum += score[0]\n",
    "    r_sum += score[1]\n",
    "    f1_sum += score[2]\n",
    "total = len(output['rouge-1 score'])\n",
    "avg = [p_sum/total, r_sum/total, f1_sum/total]\n",
    "print(avg)"
   ]
  },
  {
   "cell_type": "code",
   "execution_count": 20,
   "id": "9289a93e",
   "metadata": {},
   "outputs": [],
   "source": [
    "import spacy\n",
    "import en_core_web_sm\n",
    "nlp = en_core_web_sm.load()\n",
    "resolved = nlp(output['summary'][0])\n",
    "\n",
    "NER = []\n",
    "for X in resolved.ents:\n",
    "    NER.append((X.text, X.label_))"
   ]
  },
  {
   "cell_type": "code",
   "execution_count": 22,
   "id": "f0ceee33-634b-49ac-a00c-107c9ab8114e",
   "metadata": {},
   "outputs": [
    {
     "data": {
      "text/plain": [
       "([('the next day', 'DATE'), ('30 minutes', 'TIME')],\n",
       " \"Infrequent or secondary supplies area, tucked out of the way.;  This doesn't mean cleaning the entire studio, This just means keeping the area immediately around the desk, easel, pottery wheel, etc. Endeavor to leave the workspace in a way that you can sit down the next day and start working immediately, without having to do any work or tidying.  Even if the rest of your studio is a bit disorganized, an organized workspace will help you get down to business every time you want to make art. Plastic restaurant squirt bottles for paint, pigment, etc., Simply string up the wires across a wall or along the ceiling and use the wires to hold essential papers that you don't want to cut or ruin with tacks or tape. Cheap and easy, this is also a good way to handle papers and ideas you touch regularly or need to pin up and down for inspiration., Shelving is an artist's best friend and is a cheap and easy way to get more room in your studio or art space. The upper reaches of the room are often the most under-utilized, but provide vital space for all your tools and materials., Turning one wall into a chalkboard gives you a perfect space for ideas, sketches, and planning without requiring extra equipment or space. Instead of spending all of your mental energy looking for or storing things, you can just follow the labels, freeing your mind to think about art., Once a month, do a purge of your studio. This may not be fun at the moment, but This is a lot more fun than spending 30 minutes digging through junk to find the right paint or an old sketch.\")"
      ]
     },
     "execution_count": 22,
     "metadata": {},
     "output_type": "execute_result"
    }
   ],
   "source": [
    "NER, output['summary'][0]"
   ]
  },
  {
   "cell_type": "code",
   "execution_count": 27,
   "id": "bf415935-df4a-48de-840f-c7b6beb60209",
   "metadata": {},
   "outputs": [],
   "source": [
    "weights = np.zeros(len(NER))\n",
    "for i in range(0,len(weights)):\n",
    "    weights[i] = np.random.rand()"
   ]
  },
  {
   "cell_type": "code",
   "execution_count": 28,
   "id": "6c303006-4fa4-4ebf-bbf5-4e139d54e5bc",
   "metadata": {},
   "outputs": [
    {
     "data": {
      "text/plain": [
       "array([0.62054909, 0.52828858])"
      ]
     },
     "execution_count": 28,
     "metadata": {},
     "output_type": "execute_result"
    }
   ],
   "source": [
    "weights"
   ]
  },
  {
   "cell_type": "code",
   "execution_count": 29,
   "id": "97c823a6-18e9-4070-b5ef-236de5708476",
   "metadata": {},
   "outputs": [],
   "source": [
    "num_weights = len(weights)"
   ]
  },
  {
   "cell_type": "code",
   "execution_count": 30,
   "id": "33de96d1-f9d5-4d8c-abee-fa7ebc5546e3",
   "metadata": {},
   "outputs": [],
   "source": [
    "import numpy\n",
    "sol_per_pop = 8\n",
    "pop_size = (sol_per_pop,num_weights) # The population will have sol_per_pop chromosome where each chromosome has num_weights genes.\n",
    "\n",
    "#Creating the initial population.\n",
    "new_population = numpy.random.uniform(low=-4.0, high=4.0, size=pop_size)"
   ]
  },
  {
   "cell_type": "code",
   "execution_count": 31,
   "id": "767b1edd-8140-450f-84b1-0b2e1863138b",
   "metadata": {},
   "outputs": [
    {
     "data": {
      "text/plain": [
       "array([[-2.41826796,  1.9907412 ],\n",
       "       [-3.84006928,  2.63599761],\n",
       "       [-0.81653474,  0.85471756],\n",
       "       [-2.1724872 , -0.91582156],\n",
       "       [-2.14773374, -2.59154265],\n",
       "       [ 0.20894618,  3.74137758],\n",
       "       [ 1.07838217,  2.88186756],\n",
       "       [ 1.40077059,  2.94948967]])"
      ]
     },
     "execution_count": 31,
     "metadata": {},
     "output_type": "execute_result"
    }
   ],
   "source": [
    "new_population"
   ]
  },
  {
   "cell_type": "code",
   "execution_count": 32,
   "id": "e8c959dc-f2ba-4177-8c28-b17717d744d1",
   "metadata": {},
   "outputs": [],
   "source": [
    "def cal_pop_fitness(equation_inputs, pop):\n",
    "     # Calculating the fitness value of each solution in the current population.\n",
    "     # The fitness function calculates the sum of products between each input and its corresponding weight.\n",
    "     fitness = numpy.sum(pop*equation_inputs, axis=1)\n",
    "     return fitness"
   ]
  },
  {
   "cell_type": "code",
   "execution_count": 33,
   "id": "68ee9ac6-f03e-414a-a32d-9b8be9971c3c",
   "metadata": {},
   "outputs": [],
   "source": [
    "def select_mating_pool(pop, fitness, num_parents):\n",
    "\n",
    "    # Selecting the best individuals in the current generation as parents for producing the offspring of the next generation.\n",
    "\n",
    "    parents = numpy.empty((num_parents, pop.shape[1]))\n",
    "\n",
    "    for parent_num in range(num_parents):\n",
    "\n",
    "        max_fitness_idx = numpy.where(fitness == numpy.max(fitness))\n",
    "\n",
    "        max_fitness_idx = max_fitness_idx[0][0]\n",
    "\n",
    "        parents[parent_num, :] = pop[max_fitness_idx, :]\n",
    "\n",
    "        fitness[max_fitness_idx] = -99999999999\n",
    "\n",
    "    return parents"
   ]
  },
  {
   "cell_type": "code",
   "execution_count": 34,
   "id": "28ccfb24-e541-49e4-bf03-adb4a637c37a",
   "metadata": {},
   "outputs": [],
   "source": [
    "def crossover(parents, offspring_size):\n",
    "     offspring = numpy.empty(offspring_size)\n",
    "     # The point at which crossover takes place between two parents. Usually, it is at the center.\n",
    "     crossover_point = numpy.uint8(offspring_size[1]/2)\n",
    " \n",
    "     for k in range(offspring_size[0]):\n",
    "         # Index of the first parent to mate.\n",
    "         parent1_idx = k%parents.shape[0]\n",
    "         # Index of the second parent to mate.\n",
    "         parent2_idx = (k+1)%parents.shape[0]\n",
    "         # The new offspring will have its first half of its genes taken from the first parent.\n",
    "         offspring[k, 0:crossover_point] = parents[parent1_idx, 0:crossover_point]\n",
    "         # The new offspring will have its second half of its genes taken from the second parent.\n",
    "         offspring[k, crossover_point:] = parents[parent2_idx, crossover_point:]\n",
    "     return offspring"
   ]
  },
  {
   "cell_type": "code",
   "execution_count": 41,
   "id": "6574bb7f-6f8b-4ac7-9f56-b7e2aeb6b5bb",
   "metadata": {},
   "outputs": [],
   "source": [
    "def mutation(offspring_crossover, length):\n",
    "\n",
    "    # Mutation changes a single gene in each offspring randomly.\n",
    "\n",
    "    for idx in range(offspring_crossover.shape[0]):\n",
    "\n",
    "        # The random value to be added to the gene.\n",
    "\n",
    "        random_value = numpy.random.uniform(-1.0, 1.0, 1)\n",
    "\n",
    "        offspring_crossover[idx, length-1] = offspring_crossover[idx, length-1] + random_value\n",
    "\n",
    "    return offspring_crossover"
   ]
  },
  {
   "cell_type": "code",
   "execution_count": 42,
   "id": "2c45c2dc-eb3c-4d95-99fd-7db59df2b0ad",
   "metadata": {},
   "outputs": [
    {
     "name": "stderr",
     "output_type": "stream",
     "text": [
      "C:\\Users\\Tanvi Kandalla\\AppData\\Local\\Temp\\ipykernel_14968\\3511615979.py:11: DeprecationWarning: Conversion of an array with ndim > 0 to a scalar is deprecated, and will error in future. Ensure you extract a single element from your array before performing this operation. (Deprecated NumPy 1.25.)\n",
      "  offspring_crossover[idx, length-1] = offspring_crossover[idx, length-1] + random_value\n"
     ]
    }
   ],
   "source": [
    "num_generations = 5\n",
    "\n",
    "num_parents_mating = 4\n",
    "for generation in range(num_generations):\n",
    "     # Measuring the fitness of each chromosome in the population.\n",
    "     fitness = cal_pop_fitness(weights, new_population)\n",
    "    # Selecting the best parents in the population for mating.\n",
    "     parents = select_mating_pool(new_population, fitness, \n",
    "                                       num_parents_mating)\n",
    " \n",
    "     # Generating next generation using crossover.\n",
    "     offspring_crossover = crossover(parents,\n",
    "                                        offspring_size=(pop_size[0]-parents.shape[0], num_weights))\n",
    " \n",
    "     # Adding some variations to the offspring using mutation.\n",
    "     offspring_mutation = mutation(offspring_crossover, len(weights))# Creating the new population based on the parents and offspring.\n",
    "     new_population[0:parents.shape[0], :] = parents\n",
    "     new_population[parents.shape[0]:, :] = offspring_mutation"
   ]
  },
  {
   "cell_type": "code",
   "execution_count": 43,
   "id": "e0c0c362-2a29-4257-8a9f-ada7ab136eb3",
   "metadata": {},
   "outputs": [
    {
     "data": {
      "text/plain": [
       "array([[1.40077059, 3.86470504],\n",
       "       [1.40077059, 3.47397848],\n",
       "       [1.40077059, 3.40567017],\n",
       "       [1.40077059, 2.94948967],\n",
       "       [1.40077059, 2.83610371],\n",
       "       [1.40077059, 4.19259805],\n",
       "       [1.40077059, 3.70706767],\n",
       "       [1.40077059, 3.49478513]])"
      ]
     },
     "execution_count": 43,
     "metadata": {},
     "output_type": "execute_result"
    }
   ],
   "source": [
    "new_population"
   ]
  },
  {
   "cell_type": "code",
   "execution_count": null,
   "id": "5ea04b6f-a892-4d27-bd8f-cf30356926b9",
   "metadata": {},
   "outputs": [],
   "source": []
  }
 ],
 "metadata": {
  "kernelspec": {
   "display_name": "sumenv",
   "language": "python",
   "name": "sumenv"
  },
  "language_info": {
   "codemirror_mode": {
    "name": "ipython",
    "version": 3
   },
   "file_extension": ".py",
   "mimetype": "text/x-python",
   "name": "python",
   "nbconvert_exporter": "python",
   "pygments_lexer": "ipython3",
   "version": "3.10.11"
  }
 },
 "nbformat": 4,
 "nbformat_minor": 5
}
