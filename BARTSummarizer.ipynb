{
 "cells": [
  {
   "cell_type": "code",
   "execution_count": 1,
   "id": "c59b93b1",
   "metadata": {},
   "outputs": [
    {
     "name": "stdout",
     "output_type": "stream",
     "text": [
      "[{'summary_text': 'A New York woman has pleaded not guilty to falsely claiming to be married 10 times, including to eight men from different countries, in what prosecutors say was an immigration scam.'}]\n"
     ]
    }
   ],
   "source": [
    "from transformers import pipeline\n",
    "\n",
    "summarizer = pipeline(\"summarization\", model=\"facebook/bart-large-xsum\")\n",
    "\n",
    "ARTICLE = \"\"\" New York (CNN)When Liana Barrientos was 23 years old, she got married in Westchester County, New York.\n",
    "A year later, she got married again in Westchester County, but to a different man and without divorcing her first husband.\n",
    "Only 18 days after that marriage, she got hitched yet again. Then, Barrientos declared \"I do\" five more times, sometimes only within two weeks of each other.\n",
    "In 2010, she married once more, this time in the Bronx. In an application for a marriage license, she stated it was her \"first and only\" marriage.\n",
    "Barrientos, now 39, is facing two criminal counts of \"offering a false instrument for filing in the first degree,\" referring to her false statements on the\n",
    "2010 marriage license application, according to court documents.\n",
    "Prosecutors said the marriages were part of an immigration scam.\n",
    "On Friday, she pleaded not guilty at State Supreme Court in the Bronx, according to her attorney, Christopher Wright, who declined to comment further.\n",
    "After leaving court, Barrientos was arrested and charged with theft of service and criminal trespass for allegedly sneaking into the New York subway through an emergency exit, said Detective\n",
    "Annette Markowski, a police spokeswoman. In total, Barrientos has been married 10 times, with nine of her marriages occurring between 1999 and 2002.\n",
    "All occurred either in Westchester County, Long Island, New Jersey or the Bronx. She is believed to still be married to four men, and at one time, she was married to eight men at once, prosecutors say.\n",
    "Prosecutors said the immigration scam involved some of her husbands, who filed for permanent residence status shortly after the marriages.\n",
    "Any divorces happened only after such filings were approved. It was unclear whether any of the men will be prosecuted.\n",
    "The case was referred to the Bronx District Attorney\\'s Office by Immigration and Customs Enforcement and the Department of Homeland Security\\'s\n",
    "Investigation Division. Seven of the men are from so-called \"red-flagged\" countries, including Egypt, Turkey, Georgia, Pakistan and Mali.\n",
    "Her eighth husband, Rashid Rajput, was deported in 2006 to his native Pakistan after an investigation by the Joint Terrorism Task Force.\n",
    "If convicted, Barrientos faces up to four years in prison.  Her next court appearance is scheduled for May 18.\n",
    "\"\"\"\n",
    "print(summarizer(ARTICLE, max_length=130, min_length=30, do_sample=False))"
   ]
  },
  {
   "cell_type": "code",
   "execution_count": 2,
   "id": "9e074ee0",
   "metadata": {},
   "outputs": [
    {
     "name": "stderr",
     "output_type": "stream",
     "text": [
      "Found cached dataset xsum (C:/Users/srina/.cache/huggingface/datasets/xsum/default/1.2.0/082863bf4754ee058a5b6f6525d0cb2b18eadb62c7b370b095d1364050a52b71)\n"
     ]
    },
    {
     "data": {
      "application/vnd.jupyter.widget-view+json": {
       "model_id": "1b14c9206d19402985ba1e522c6dfa22",
       "version_major": 2,
       "version_minor": 0
      },
      "text/plain": [
       "  0%|          | 0/3 [00:00<?, ?it/s]"
      ]
     },
     "metadata": {},
     "output_type": "display_data"
    }
   ],
   "source": [
    "from datasets import load_dataset\n",
    "\n",
    "dataset = load_dataset(\"xsum\")"
   ]
  },
  {
   "cell_type": "code",
   "execution_count": 3,
   "id": "345e05fb",
   "metadata": {},
   "outputs": [
    {
     "data": {
      "text/plain": [
       "DatasetDict({\n",
       "    train: Dataset({\n",
       "        features: ['document', 'summary', 'id'],\n",
       "        num_rows: 204045\n",
       "    })\n",
       "    validation: Dataset({\n",
       "        features: ['document', 'summary', 'id'],\n",
       "        num_rows: 11332\n",
       "    })\n",
       "    test: Dataset({\n",
       "        features: ['document', 'summary', 'id'],\n",
       "        num_rows: 11334\n",
       "    })\n",
       "})"
      ]
     },
     "execution_count": 3,
     "metadata": {},
     "output_type": "execute_result"
    }
   ],
   "source": [
    "dataset"
   ]
  },
  {
   "cell_type": "code",
   "execution_count": 31,
   "id": "e48c4926",
   "metadata": {},
   "outputs": [
    {
     "name": "stdout",
     "output_type": "stream",
     "text": [
      "John Edward Bates, formerly of Spalding, Lincolnshire, but now living in London, faces a total of 22 charges, including two counts of indecency with a child.\n",
      "The 67-year-old is accused of committing the offences between March 1972 and October 1989.\n",
      "Mr Bates denies all the charges.\n",
      "Grace Hale, prosecuting, told the jury that the allegations of sexual abuse were made by made by four male complainants and related to when Mr Bates was a scout leader in South Lincolnshire and Cambridgeshire.\n",
      "\"The defendant says nothing of that sort happened between himself and all these individuals. He says they are all fabricating their accounts and telling lies,\" said Mrs Hale.\n",
      "The prosecutor claimed Mr Bates invited one 15 year old to his home offering him the chance to look at cine films made at scout camps but then showed him pornographic films.\n",
      "She told the jury that the boy was then sexually abused leaving him confused and frightened.\n",
      "Mrs Hale said: \"The complainant's recollection is that on a number of occasions sexual acts would happen with the defendant either in the defendant's car or in his cottage.\"\n",
      "She told the jury a second boy was taken by Mr Bates for a weekend in London at the age of 13 or 14 and after visiting pubs he was later sexually abused.\n",
      "Mrs Hale said two boys from the Spalding group had also made complaints of being sexually abused.\n",
      "The jury has been told that Mr Bates was in the RAF before serving as a Lincolnshire Police officer between 1976 and 1983.\n",
      "The trial, which is expected to last two weeks, continues.\n"
     ]
    }
   ],
   "source": [
    "text = dataset['train']['document'][3]\n",
    "print(text)"
   ]
  },
  {
   "cell_type": "code",
   "execution_count": 32,
   "id": "afabfc61",
   "metadata": {},
   "outputs": [
    {
     "data": {
      "text/plain": [
       "'A former Lincolnshire Police officer carried out a series of sex attacks on boys, a jury at Lincoln Crown Court was told.'"
      ]
     },
     "execution_count": 32,
     "metadata": {},
     "output_type": "execute_result"
    }
   ],
   "source": [
    "dataset['train']['summary'][3]"
   ]
  },
  {
   "cell_type": "code",
   "execution_count": 33,
   "id": "40a9bd9d",
   "metadata": {},
   "outputs": [
    {
     "name": "stdout",
     "output_type": "stream",
     "text": [
      "A former police officer has gone on trial accused of sexually abusing two boys in the 1970s and 1980s, the Old Bailey has been told.\n"
     ]
    }
   ],
   "source": [
    "ARTICLE = dataset['train']['document'][3]\n",
    "summary = list(summarizer(ARTICLE, max_length=130, min_length=30, do_sample=False)[0].values())[0]\n",
    "print(summary)"
   ]
  },
  {
   "cell_type": "code",
   "execution_count": 34,
   "id": "3de5a2ab",
   "metadata": {},
   "outputs": [
    {
     "name": "stdout",
     "output_type": "stream",
     "text": [
      "2023-09-21 12:24:22,366 SequenceTagger predicts: Dictionary with 75 tags: O, S-PERSON, B-PERSON, E-PERSON, I-PERSON, S-GPE, B-GPE, E-GPE, I-GPE, S-ORG, B-ORG, E-ORG, I-ORG, S-DATE, B-DATE, E-DATE, I-DATE, S-CARDINAL, B-CARDINAL, E-CARDINAL, I-CARDINAL, S-NORP, B-NORP, E-NORP, I-NORP, S-MONEY, B-MONEY, E-MONEY, I-MONEY, S-PERCENT, B-PERCENT, E-PERCENT, I-PERCENT, S-ORDINAL, B-ORDINAL, E-ORDINAL, I-ORDINAL, S-LOC, B-LOC, E-LOC, I-LOC, S-TIME, B-TIME, E-TIME, I-TIME, S-WORK_OF_ART, B-WORK_OF_ART, E-WORK_OF_ART, I-WORK_OF_ART, S-FAC\n"
     ]
    }
   ],
   "source": [
    "from flair.data import Sentence\n",
    "from flair.models import SequenceTagger\n",
    "from segtok.segmenter import split_single\n",
    "\n",
    "tagger = SequenceTagger.load('ner-ontonotes')\n",
    "\n",
    "sentence = [Sentence(sent, use_tokenizer=True) for sent in split_single(text)]\n",
    "tagger.predict(sentence)\n",
    "text_NER = []\n",
    "for sent in sentence:\n",
    "    for entity in sent.get_spans('ner'):\n",
    "        text_NER.append((entity.text.strip(), entity.tag))\n",
    "        \n",
    "sentence = [Sentence(sent, use_tokenizer=True) for sent in split_single(summary)]\n",
    "tagger.predict(sentence)\n",
    "sum_NER = []\n",
    "for sent in sentence:\n",
    "    for entity in sent.get_spans('ner'):\n",
    "        sum_NER.append((entity.text.strip(), entity.tag))"
   ]
  },
  {
   "cell_type": "code",
   "execution_count": 35,
   "id": "e3bd92a2",
   "metadata": {},
   "outputs": [
    {
     "name": "stdout",
     "output_type": "stream",
     "text": [
      "[('two', 'CARDINAL'), ('1970s', 'DATE'), ('1980s', 'DATE'), ('the Old Bailey', 'ORG')]\n",
      "\n",
      "\n",
      "[('John Edward Bates', 'PERSON'), ('Spalding', 'GPE'), ('Lincolnshire', 'GPE'), ('London', 'GPE'), ('22', 'CARDINAL'), ('two', 'CARDINAL'), ('67-year-old', 'DATE'), ('March 1972 and October 1989', 'DATE'), ('Bates', 'PERSON'), ('Grace Hale', 'PERSON'), ('four', 'CARDINAL'), ('Bates', 'PERSON'), ('South Lincolnshire', 'GPE'), ('Cambridgeshire', 'GPE'), ('Hale', 'PERSON'), ('Bates', 'PERSON'), ('one', 'CARDINAL'), ('15 year old', 'DATE'), ('Hale', 'PERSON'), ('second', 'ORDINAL'), ('Bates', 'PERSON'), ('weekend', 'DATE'), ('London', 'GPE'), ('13', 'DATE'), ('14', 'DATE'), ('Hale', 'PERSON'), ('two', 'CARDINAL'), ('Spalding', 'GPE'), ('Bates', 'PERSON'), ('RAF', 'ORG'), ('Lincolnshire Police', 'ORG'), ('between 1976 and 1983', 'DATE'), ('two weeks', 'DATE')]\n"
     ]
    }
   ],
   "source": [
    "print(sum_NER)\n",
    "print(\"\\n\")\n",
    "print(text_NER)"
   ]
  },
  {
   "cell_type": "code",
   "execution_count": null,
   "id": "27fe1b81",
   "metadata": {},
   "outputs": [],
   "source": []
  }
 ],
 "metadata": {
  "kernelspec": {
   "display_name": "sumenv",
   "language": "python",
   "name": "sumenv"
  },
  "language_info": {
   "codemirror_mode": {
    "name": "ipython",
    "version": 3
   },
   "file_extension": ".py",
   "mimetype": "text/x-python",
   "name": "python",
   "nbconvert_exporter": "python",
   "pygments_lexer": "ipython3",
   "version": "3.9.4"
  }
 },
 "nbformat": 4,
 "nbformat_minor": 5
}
